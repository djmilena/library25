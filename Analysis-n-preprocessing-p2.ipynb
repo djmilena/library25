{
 "cells": [
  {
   "cell_type": "code",
   "execution_count": 1,
   "id": "4e6141a8",
   "metadata": {},
   "outputs": [
    {
     "name": "stderr",
     "output_type": "stream",
     "text": [
      "/Users/milenadjordjevic/miniconda3/lib/python3.9/site-packages/fuzzywuzzy/fuzz.py:11: UserWarning: Using slow pure-python SequenceMatcher. Install python-Levenshtein to remove this warning\n",
      "  warnings.warn('Using slow pure-python SequenceMatcher. Install python-Levenshtein to remove this warning')\n"
     ]
    }
   ],
   "source": [
    "import pandas as pd\n",
    "import re\n",
    "from datetime import datetime\n",
    "import ast\n",
    "from fuzzywuzzy import process, fuzz\n",
    "\n",
    "import warnings\n",
    "\n",
    "with warnings.catch_warnings():\n",
    "    warnings.simplefilter(\"ignore\")"
   ]
  },
  {
   "cell_type": "code",
   "execution_count": 2,
   "id": "d6193494",
   "metadata": {},
   "outputs": [],
   "source": [
    "DATA_DIR = './library-data'"
   ]
  },
  {
   "cell_type": "code",
   "execution_count": 3,
   "id": "0dce0460",
   "metadata": {},
   "outputs": [],
   "source": [
    "bks = pd.read_csv(f'{DATA_DIR}/books.csv')\n",
    "cmrs = pd.read_csv(f'{DATA_DIR}/customers.csv')\n",
    "lbrs = pd.read_csv(f'{DATA_DIR}/libraries.csv')\n",
    "\n",
    "ckts = pd.read_csv(f'{DATA_DIR}/checkouts_processed.csv')"
   ]
  },
  {
   "cell_type": "code",
   "execution_count": 4,
   "id": "6695d2db",
   "metadata": {},
   "outputs": [
    {
     "data": {
      "text/html": [
       "<div>\n",
       "<style scoped>\n",
       "    .dataframe tbody tr th:only-of-type {\n",
       "        vertical-align: middle;\n",
       "    }\n",
       "\n",
       "    .dataframe tbody tr th {\n",
       "        vertical-align: top;\n",
       "    }\n",
       "\n",
       "    .dataframe thead th {\n",
       "        text-align: right;\n",
       "    }\n",
       "</style>\n",
       "<table border=\"1\" class=\"dataframe\">\n",
       "  <thead>\n",
       "    <tr style=\"text-align: right;\">\n",
       "      <th></th>\n",
       "      <th>checkout_id</th>\n",
       "      <th>customer_id</th>\n",
       "      <th>library_id</th>\n",
       "      <th>days_out_final</th>\n",
       "      <th>is_late</th>\n",
       "    </tr>\n",
       "  </thead>\n",
       "  <tbody>\n",
       "    <tr>\n",
       "      <th>1422</th>\n",
       "      <td>V74zAQAAMAAJ</td>\n",
       "      <td>639c94b52fd7e94e80a51a8fa41e3fea</td>\n",
       "      <td>23v-222@5xc-jv7-v4v</td>\n",
       "      <td>15</td>\n",
       "      <td>0</td>\n",
       "    </tr>\n",
       "    <tr>\n",
       "      <th>1379</th>\n",
       "      <td>vYOofF63aBoC</td>\n",
       "      <td>414fc3d0ff4d938370ff6f85ecda28a6</td>\n",
       "      <td>226-222@5xc-kc4-fpv</td>\n",
       "      <td>9</td>\n",
       "      <td>0</td>\n",
       "    </tr>\n",
       "    <tr>\n",
       "      <th>1429</th>\n",
       "      <td>Q14YAAAAYAAJ</td>\n",
       "      <td>66cab1cf0592c25ae0cda7970e2ac4de</td>\n",
       "      <td>zzw-224@5xc-jwv-2rk</td>\n",
       "      <td>18</td>\n",
       "      <td>0</td>\n",
       "    </tr>\n",
       "  </tbody>\n",
       "</table>\n",
       "</div>"
      ],
      "text/plain": [
       "       checkout_id                       customer_id           library_id  \\\n",
       "1422  V74zAQAAMAAJ  639c94b52fd7e94e80a51a8fa41e3fea  23v-222@5xc-jv7-v4v   \n",
       "1379  vYOofF63aBoC  414fc3d0ff4d938370ff6f85ecda28a6  226-222@5xc-kc4-fpv   \n",
       "1429  Q14YAAAAYAAJ  66cab1cf0592c25ae0cda7970e2ac4de  zzw-224@5xc-jwv-2rk   \n",
       "\n",
       "      days_out_final  is_late  \n",
       "1422              15        0  \n",
       "1379               9        0  \n",
       "1429              18        0  "
      ]
     },
     "execution_count": 4,
     "metadata": {},
     "output_type": "execute_result"
    }
   ],
   "source": [
    "ckts.rename(columns={'id':'checkout_id', 'patron_id':'customer_id'}, inplace=True)\n",
    "ckts.sample(3)"
   ]
  },
  {
   "cell_type": "code",
   "execution_count": 5,
   "id": "5d476311",
   "metadata": {},
   "outputs": [],
   "source": [
    "bks = bks.rename(columns=lambda x: f'book_{x}' if x != 'id' else x)\n",
    "lbrs = lbrs.rename(columns=lambda x: f'library_{x}' if x != 'id' else x)\n",
    "cmrs = cmrs.rename(columns=lambda x: f'customer_{x}' if x != 'id' else x)"
   ]
  },
  {
   "cell_type": "code",
   "execution_count": 6,
   "id": "d2470faa",
   "metadata": {},
   "outputs": [
    {
     "name": "stdout",
     "output_type": "stream",
     "text": [
      "<class 'pandas.core.frame.DataFrame'>\n",
      "RangeIndex: 240 entries, 0 to 239\n",
      "Data columns (total 8 columns):\n",
      " #   Column              Non-Null Count  Dtype \n",
      "---  ------              --------------  ----- \n",
      " 0   id                  240 non-null    object\n",
      " 1   book_title          240 non-null    object\n",
      " 2   book_authors        173 non-null    object\n",
      " 3   book_publisher      94 non-null     object\n",
      " 4   book_publishedDate  238 non-null    object\n",
      " 5   book_categories     201 non-null    object\n",
      " 6   book_price          238 non-null    object\n",
      " 7   book_pages          240 non-null    object\n",
      "dtypes: object(8)\n",
      "memory usage: 15.1+ KB\n"
     ]
    }
   ],
   "source": [
    "bks.info()"
   ]
  },
  {
   "cell_type": "code",
   "execution_count": 7,
   "id": "290444e7",
   "metadata": {},
   "outputs": [],
   "source": [
    "bks.book_authors = bks.book_authors.fillna(\"['Unknown']\")\n",
    "bks.book_publisher = bks.book_publisher.fillna('Unknown')\n",
    "bks.book_publishedDate = bks.book_publishedDate.fillna('YYYY-MM-DD')\n",
    "bks.book_categories = bks.book_categories.fillna(\"['Unknown']\")\n",
    "bks.book_price = bks.book_price.fillna(-1.0)"
   ]
  },
  {
   "cell_type": "code",
   "execution_count": 8,
   "id": "1153ba15",
   "metadata": {},
   "outputs": [],
   "source": [
    "bks.book_authors = bks.book_authors.apply(ast.literal_eval)\n",
    "bks.book_categories = bks.book_categories.apply(ast.literal_eval)"
   ]
  },
  {
   "cell_type": "code",
   "execution_count": 9,
   "id": "ddd26aea",
   "metadata": {},
   "outputs": [
    {
     "name": "stdout",
     "output_type": "stream",
     "text": [
      "['A. Kungolos', 'Ahmed F. El-Sayed', 'Akira Ohata']\n",
      "['Accounting', 'Administrative agencies', 'Advertising']\n"
     ]
    }
   ],
   "source": [
    "def get_unique_list_items(series):\n",
    "    from itertools import chain\n",
    "    all_items = set(chain.from_iterable(series.dropna()))\n",
    "    return sorted(all_items)\n",
    "\n",
    "print(get_unique_list_items(bks.book_authors)[:3])\n",
    "print(get_unique_list_items(bks.book_categories)[:3])"
   ]
  },
  {
   "cell_type": "code",
   "execution_count": 10,
   "id": "395382fa",
   "metadata": {},
   "outputs": [],
   "source": [
    "def clean_fuzzy_column(series, similarity_threshold=90, min_freq=2):\n",
    "\n",
    "    def normalize_item(item):\n",
    "        return item.lower().strip().replace('-', ' ').replace('_', ' ')\n",
    "\n",
    "    if isinstance(series.dropna().iloc[0], list):\n",
    "        flat_items = pd.Series(\n",
    "            [normalize_item(i) for sublist in series.dropna() for i in sublist]\n",
    "        )\n",
    "        return_type = \"list\"\n",
    "    else:\n",
    "        flat_items = series.dropna().astype(str).apply(normalize_item)\n",
    "        return_type = \"str\"\n",
    "\n",
    "    unique_items = flat_items.value_counts()\n",
    "    # Filter to items above min_freq to avoid mapping junk\n",
    "    items_to_check = unique_items[unique_items >= min_freq].index.tolist()\n",
    "\n",
    "    canonical_map = {}\n",
    "    processed = set()\n",
    "\n",
    "    for item in items_to_check:\n",
    "        if item in processed:\n",
    "            continue\n",
    "        matches = process.extract(item, items_to_check, scorer=fuzz.token_sort_ratio)\n",
    "        group = [match for match, score in matches if score >= similarity_threshold]\n",
    "        canonical = min(group, key=len)\n",
    "        for alt in group:\n",
    "            canonical_map[alt] = canonical\n",
    "            processed.add(alt)\n",
    "\n",
    "    if return_type == \"list\":\n",
    "        def clean_list(lst):\n",
    "            if not isinstance(lst, list):\n",
    "                return []\n",
    "            normalized = [normalize_item(i) for i in lst]\n",
    "            cleaned = [canonical_map.get(i, i) for i in normalized]\n",
    "            return sorted(set(cleaned))\n",
    "        cleaned_series = series.apply(clean_list)\n",
    "\n",
    "    else:\n",
    "        def clean_str(s):\n",
    "            s_norm = normalize_item(s)\n",
    "            return canonical_map.get(s_norm, s_norm)\n",
    "        cleaned_series = series.dropna().astype(str).apply(clean_str)\n",
    "\n",
    "    return cleaned_series, canonical_map"
   ]
  },
  {
   "cell_type": "code",
   "execution_count": 11,
   "id": "f1f4f587",
   "metadata": {},
   "outputs": [
    {
     "name": "stdout",
     "output_type": "stream",
     "text": [
      "{'unknown': 'unknown', 'philip reeve': 'philip reeve', 'khan': 'khan', 'world bank': 'world bank', 'charles eucharist de medicis sajous': 'charles eucharist de medicis sajous'}\n"
     ]
    }
   ],
   "source": [
    "bks['book_authors'], author_mapping = clean_fuzzy_column(bks['book_authors'])\n",
    "bks['book_categories'], category_mapping = clean_fuzzy_column(bks['book_categories'])\n",
    "\n",
    "print(author_mapping)"
   ]
  },
  {
   "cell_type": "code",
   "execution_count": 12,
   "id": "942fdf42",
   "metadata": {},
   "outputs": [
    {
     "name": "stdout",
     "output_type": "stream",
     "text": [
      "{'popular mechanics': 'popular mechanics', 'medicine': 'medicine', 'advertising management': 'advertising management', 'financial management': 'financial management', 'advertising and sales promotion': 'advertising and sales promotion', 'advertising': 'advertising', 'mortal engines': 'mortal engines', 'water resources data': 'water resources data', 'water resources paper': 'water resources paper'}\n"
     ]
    }
   ],
   "source": [
    "bks['book_title'], title_mapping = clean_fuzzy_column(bks['book_title'])\n",
    "\n",
    "print(title_mapping)"
   ]
  },
  {
   "cell_type": "code",
   "execution_count": 13,
   "id": "c9e73f95",
   "metadata": {},
   "outputs": [],
   "source": [
    "def clean_book_prices(bks):\n",
    "    def try_convert(price):\n",
    "        cleaned = re.findall(r\"\\d+\\.\\d+|\\d+\", str(price))\n",
    "        if cleaned:\n",
    "            return float(cleaned[0])\n",
    "        return None\n",
    "\n",
    "    bks['book_price_clean'] = bks['book_price'].apply(try_convert)\n",
    "    bks['book_price_error'] = bks['book_price_clean'].isnull()\n",
    "\n",
    "    return bks"
   ]
  },
  {
   "cell_type": "code",
   "execution_count": 14,
   "id": "a1d59607",
   "metadata": {},
   "outputs": [
    {
     "data": {
      "text/plain": [
       "book_price_error\n",
       "False    240\n",
       "Name: count, dtype: int64"
      ]
     },
     "execution_count": 14,
     "metadata": {},
     "output_type": "execute_result"
    }
   ],
   "source": [
    "bks = clean_book_prices(bks)\n",
    "\n",
    "bks['book_price_error'].value_counts()"
   ]
  },
  {
   "cell_type": "code",
   "execution_count": 15,
   "id": "8eade487",
   "metadata": {},
   "outputs": [
    {
     "data": {
      "text/plain": [
       "0"
      ]
     },
     "execution_count": 15,
     "metadata": {},
     "output_type": "execute_result"
    }
   ],
   "source": [
    "bks = bks.drop(columns=['book_price', 'book_price_error'])\n",
    "bks = bks.rename(columns={'book_price_clean':'book_price'})\n",
    "bks['book_price'].isna().sum()"
   ]
  },
  {
   "cell_type": "code",
   "execution_count": 16,
   "id": "032c3e9c",
   "metadata": {},
   "outputs": [],
   "source": [
    "def clean_book_pages(bks):\n",
    "    def try_convert(page):\n",
    "        cleaned = re.sub(r'\\D', '', str(page))\n",
    "        return int(cleaned) if cleaned.isdigit() else None\n",
    "\n",
    "    bks['book_pages_clean'] = bks['book_pages'].apply(try_convert)\n",
    "\n",
    "    bks['book_pages_error'] = bks['book_pages_clean'].isnull()\n",
    "\n",
    "    return bks"
   ]
  },
  {
   "cell_type": "code",
   "execution_count": 17,
   "id": "b5fd0cc2",
   "metadata": {},
   "outputs": [
    {
     "data": {
      "text/plain": [
       "book_pages_error\n",
       "False    240\n",
       "Name: count, dtype: int64"
      ]
     },
     "execution_count": 17,
     "metadata": {},
     "output_type": "execute_result"
    }
   ],
   "source": [
    "bks = clean_book_pages(bks)\n",
    "\n",
    "bks.book_pages_error.value_counts()"
   ]
  },
  {
   "cell_type": "code",
   "execution_count": 18,
   "id": "53e48854",
   "metadata": {},
   "outputs": [
    {
     "data": {
      "text/plain": [
       "0"
      ]
     },
     "execution_count": 18,
     "metadata": {},
     "output_type": "execute_result"
    }
   ],
   "source": [
    "bks = bks.drop(columns=['book_pages', 'book_pages_error'])\n",
    "bks = bks.rename(columns={'book_pages_clean':'book_pages'})\n",
    "bks['book_pages'].isna().sum()"
   ]
  },
  {
   "cell_type": "code",
   "execution_count": 19,
   "id": "53fa9004",
   "metadata": {},
   "outputs": [
    {
     "data": {
      "text/plain": [
       "book_age\n",
       "21.0     9\n",
       "10.0     8\n",
       "16.0     7\n",
       "18.0     7\n",
       "13.0     6\n",
       "        ..\n",
       "166.0    1\n",
       "144.0    1\n",
       "149.0    1\n",
       "148.0    1\n",
       "46.0     1\n",
       "Name: count, Length: 113, dtype: int64"
      ]
     },
     "execution_count": 19,
     "metadata": {},
     "output_type": "execute_result"
    }
   ],
   "source": [
    "def extract_year(val):\n",
    "    if pd.isna(val):\n",
    "        return None\n",
    "    match = re.search(r'\\b(18|19|20)\\d{2}\\b', str(val))\n",
    "    if match:\n",
    "        return int(match.group())\n",
    "    return None\n",
    "\n",
    "current_year = datetime.today().year\n",
    "\n",
    "bks['book_published_year'] = bks['book_publishedDate'].apply(extract_year)\n",
    "\n",
    "bks['book_age'] = bks['book_published_year'].apply(\n",
    "    lambda y: current_year - y if pd.notnull(y) else None\n",
    ")\n",
    "\n",
    "bks['book_age'].value_counts()"
   ]
  },
  {
   "cell_type": "code",
   "execution_count": 20,
   "id": "4a13dadb",
   "metadata": {},
   "outputs": [],
   "source": [
    "book_age_categories = {\n",
    "    \"New\": (0, 1),                  \n",
    "    \"Recent\": (2, 5),               \n",
    "    \"Modern\": (6, 20),              \n",
    "    \"Vintage\": (21, 50),            \n",
    "    \"Classic\": (51, float('inf'))   \n",
    "}"
   ]
  },
  {
   "cell_type": "code",
   "execution_count": 21,
   "id": "210f1d11",
   "metadata": {},
   "outputs": [
    {
     "data": {
      "text/plain": [
       "book_age_category\n",
       "Classic    113\n",
       "Modern      65\n",
       "Vintage     56\n",
       "Recent       4\n",
       "Unknown      2\n",
       "Name: count, dtype: int64"
      ]
     },
     "execution_count": 21,
     "metadata": {},
     "output_type": "execute_result"
    }
   ],
   "source": [
    "def categorize_book_age(age):\n",
    "    if age is None:\n",
    "        return 'Unknown'\n",
    "    for category, (min_age, max_age) in book_age_categories.items():\n",
    "        if min_age <= age <= max_age:\n",
    "            return category\n",
    "    return 'Unknown'\n",
    "\n",
    "bks['book_age_category'] = bks['book_age'].apply(categorize_book_age)\n",
    "bks['book_age_category'].value_counts()"
   ]
  },
  {
   "cell_type": "code",
   "execution_count": 22,
   "id": "160d4e3b",
   "metadata": {},
   "outputs": [
    {
     "name": "stdout",
     "output_type": "stream",
     "text": [
      "<class 'pandas.core.frame.DataFrame'>\n",
      "RangeIndex: 240 entries, 0 to 239\n",
      "Data columns (total 11 columns):\n",
      " #   Column               Non-Null Count  Dtype  \n",
      "---  ------               --------------  -----  \n",
      " 0   id                   240 non-null    object \n",
      " 1   book_title           240 non-null    object \n",
      " 2   book_authors         240 non-null    object \n",
      " 3   book_publisher       240 non-null    object \n",
      " 4   book_publishedDate   240 non-null    object \n",
      " 5   book_categories      240 non-null    object \n",
      " 6   book_price           240 non-null    float64\n",
      " 7   book_pages           240 non-null    int64  \n",
      " 8   book_published_year  238 non-null    float64\n",
      " 9   book_age             240 non-null    float64\n",
      " 10  book_age_category    240 non-null    object \n",
      "dtypes: float64(3), int64(1), object(7)\n",
      "memory usage: 20.8+ KB\n"
     ]
    }
   ],
   "source": [
    "bks.book_age = bks.book_age.fillna(-1)\n",
    "bks.info()"
   ]
  },
  {
   "cell_type": "code",
   "execution_count": 23,
   "id": "2780545a",
   "metadata": {},
   "outputs": [
    {
     "data": {
      "text/html": [
       "<div>\n",
       "<style scoped>\n",
       "    .dataframe tbody tr th:only-of-type {\n",
       "        vertical-align: middle;\n",
       "    }\n",
       "\n",
       "    .dataframe tbody tr th {\n",
       "        vertical-align: top;\n",
       "    }\n",
       "\n",
       "    .dataframe thead th {\n",
       "        text-align: right;\n",
       "    }\n",
       "</style>\n",
       "<table border=\"1\" class=\"dataframe\">\n",
       "  <thead>\n",
       "    <tr style=\"text-align: right;\">\n",
       "      <th></th>\n",
       "      <th>id</th>\n",
       "      <th>book_title</th>\n",
       "      <th>book_authors</th>\n",
       "      <th>book_publisher</th>\n",
       "      <th>book_categories</th>\n",
       "      <th>book_price</th>\n",
       "      <th>book_pages</th>\n",
       "      <th>book_age</th>\n",
       "      <th>book_age_category</th>\n",
       "    </tr>\n",
       "  </thead>\n",
       "  <tbody>\n",
       "    <tr>\n",
       "      <th>109</th>\n",
       "      <td>gM80AQAAMAAJ</td>\n",
       "      <td>medicine in modern times</td>\n",
       "      <td>[british medical association, william stokes]</td>\n",
       "      <td>Unknown</td>\n",
       "      <td>[historical card]</td>\n",
       "      <td>149.99</td>\n",
       "      <td>479</td>\n",
       "      <td>156.0</td>\n",
       "      <td>Classic</td>\n",
       "    </tr>\n",
       "    <tr>\n",
       "      <th>233</th>\n",
       "      <td>ck-32n6REQgC</td>\n",
       "      <td>the john h. chafee coastal barrier resources s...</td>\n",
       "      <td>[united states, united states. congress. house...</td>\n",
       "      <td>Unknown</td>\n",
       "      <td>[barrier islands]</td>\n",
       "      <td>154.99</td>\n",
       "      <td>442</td>\n",
       "      <td>21.0</td>\n",
       "      <td>Vintage</td>\n",
       "    </tr>\n",
       "    <tr>\n",
       "      <th>120</th>\n",
       "      <td>IwsVEAAAQBAJ</td>\n",
       "      <td>financial inclusion</td>\n",
       "      <td>[rajiv prabhakar]</td>\n",
       "      <td>Policy Press</td>\n",
       "      <td>[finance]</td>\n",
       "      <td>113.00</td>\n",
       "      <td>353</td>\n",
       "      <td>4.0</td>\n",
       "      <td>Recent</td>\n",
       "    </tr>\n",
       "  </tbody>\n",
       "</table>\n",
       "</div>"
      ],
      "text/plain": [
       "               id                                         book_title  \\\n",
       "109  gM80AQAAMAAJ                           medicine in modern times   \n",
       "233  ck-32n6REQgC  the john h. chafee coastal barrier resources s...   \n",
       "120  IwsVEAAAQBAJ                                financial inclusion   \n",
       "\n",
       "                                          book_authors book_publisher  \\\n",
       "109      [british medical association, william stokes]        Unknown   \n",
       "233  [united states, united states. congress. house...        Unknown   \n",
       "120                                  [rajiv prabhakar]   Policy Press   \n",
       "\n",
       "       book_categories  book_price  book_pages  book_age book_age_category  \n",
       "109  [historical card]      149.99         479     156.0           Classic  \n",
       "233  [barrier islands]      154.99         442      21.0           Vintage  \n",
       "120          [finance]      113.00         353       4.0            Recent  "
      ]
     },
     "execution_count": 23,
     "metadata": {},
     "output_type": "execute_result"
    }
   ],
   "source": [
    "bks = bks.drop(columns=['book_publishedDate', 'book_published_year'])\n",
    "bks.sample(3)"
   ]
  },
  {
   "cell_type": "code",
   "execution_count": 24,
   "id": "93f94eaa",
   "metadata": {},
   "outputs": [],
   "source": [
    "bks.to_csv(f'{DATA_DIR}/books_processed.csv', index=False)"
   ]
  },
  {
   "cell_type": "code",
   "execution_count": 25,
   "id": "98b61248",
   "metadata": {},
   "outputs": [
    {
     "name": "stdout",
     "output_type": "stream",
     "text": [
      "<class 'pandas.core.frame.DataFrame'>\n",
      "RangeIndex: 18 entries, 0 to 17\n",
      "Data columns (total 6 columns):\n",
      " #   Column                  Non-Null Count  Dtype \n",
      "---  ------                  --------------  ----- \n",
      " 0   id                      18 non-null     object\n",
      " 1   library_name            18 non-null     object\n",
      " 2   library_street_address  18 non-null     object\n",
      " 3   library_city            14 non-null     object\n",
      " 4   library_region          16 non-null     object\n",
      " 5   library_postal_code     15 non-null     object\n",
      "dtypes: object(6)\n",
      "memory usage: 992.0+ bytes\n"
     ]
    }
   ],
   "source": [
    "lbrs.info()"
   ]
  },
  {
   "cell_type": "code",
   "execution_count": 26,
   "id": "7be09ce5",
   "metadata": {},
   "outputs": [
    {
     "data": {
      "text/plain": [
       "array(['Portland ', nan, 'portland', 'Portland', ' Portland', 'PORTLAND'],\n",
       "      dtype=object)"
      ]
     },
     "execution_count": 26,
     "metadata": {},
     "output_type": "execute_result"
    }
   ],
   "source": [
    "lbrs.library_city.unique()"
   ]
  },
  {
   "cell_type": "code",
   "execution_count": 27,
   "id": "f7accc23",
   "metadata": {},
   "outputs": [],
   "source": [
    "lbrs.library_city = 'Portland'"
   ]
  },
  {
   "cell_type": "code",
   "execution_count": 28,
   "id": "f770001e",
   "metadata": {},
   "outputs": [
    {
     "data": {
      "text/plain": [
       "array(['OR ', 'or', 'OR', ' OR', nan], dtype=object)"
      ]
     },
     "execution_count": 28,
     "metadata": {},
     "output_type": "execute_result"
    }
   ],
   "source": [
    "lbrs.library_region.unique()"
   ]
  },
  {
   "cell_type": "code",
   "execution_count": 29,
   "id": "00c2f403",
   "metadata": {},
   "outputs": [],
   "source": [
    "lbrs.library_region = 'OR'"
   ]
  },
  {
   "cell_type": "code",
   "execution_count": 30,
   "id": "ee2d98ed",
   "metadata": {},
   "outputs": [
    {
     "data": {
      "text/plain": [
       "array(['97219', nan, '97203', '-97239', ' 97202', '-97206', '97205 ',\n",
       "       '97204', '97214', '#97233', '97212-', '#97217', '97212 ', '97212_',\n",
       "       '_97213'], dtype=object)"
      ]
     },
     "execution_count": 30,
     "metadata": {},
     "output_type": "execute_result"
    }
   ],
   "source": [
    "lbrs.library_postal_code.unique()"
   ]
  },
  {
   "cell_type": "code",
   "execution_count": 31,
   "id": "2401b148",
   "metadata": {},
   "outputs": [
    {
     "data": {
      "text/html": [
       "<div>\n",
       "<style scoped>\n",
       "    .dataframe tbody tr th:only-of-type {\n",
       "        vertical-align: middle;\n",
       "    }\n",
       "\n",
       "    .dataframe tbody tr th {\n",
       "        vertical-align: top;\n",
       "    }\n",
       "\n",
       "    .dataframe thead th {\n",
       "        text-align: right;\n",
       "    }\n",
       "</style>\n",
       "<table border=\"1\" class=\"dataframe\">\n",
       "  <thead>\n",
       "    <tr style=\"text-align: right;\">\n",
       "      <th></th>\n",
       "      <th>id</th>\n",
       "      <th>library_name</th>\n",
       "      <th>library_street_address</th>\n",
       "      <th>library_city</th>\n",
       "      <th>library_region</th>\n",
       "      <th>library_postal_code</th>\n",
       "    </tr>\n",
       "  </thead>\n",
       "  <tbody>\n",
       "    <tr>\n",
       "      <th>1</th>\n",
       "      <td>23v-222@5xc-jv7-v4v</td>\n",
       "      <td>Multnomah County Library Northwest</td>\n",
       "      <td>2300 NW Thurman  St</td>\n",
       "      <td>Portland</td>\n",
       "      <td>OR</td>\n",
       "      <td>NaN</td>\n",
       "    </tr>\n",
       "    <tr>\n",
       "      <th>9</th>\n",
       "      <td>zzw-222@5xc-knn-c5z</td>\n",
       "      <td>Multnomah County Library Holgate</td>\n",
       "      <td>7905  SE Holgate Blvd</td>\n",
       "      <td>Portland</td>\n",
       "      <td>OR</td>\n",
       "      <td>NaN</td>\n",
       "    </tr>\n",
       "    <tr>\n",
       "      <th>12</th>\n",
       "      <td>225-222@5xc-jtz-hkf</td>\n",
       "      <td>MULTNOMAH County Library</td>\n",
       "      <td>216 ne Knott st</td>\n",
       "      <td>Portland</td>\n",
       "      <td>OR</td>\n",
       "      <td>NaN</td>\n",
       "    </tr>\n",
       "  </tbody>\n",
       "</table>\n",
       "</div>"
      ],
      "text/plain": [
       "                     id                        library_name  \\\n",
       "1   23v-222@5xc-jv7-v4v  Multnomah County Library Northwest   \n",
       "9   zzw-222@5xc-knn-c5z    Multnomah County Library Holgate   \n",
       "12  225-222@5xc-jtz-hkf            MULTNOMAH County Library   \n",
       "\n",
       "   library_street_address library_city library_region library_postal_code  \n",
       "1     2300 NW Thurman  St     Portland             OR                 NaN  \n",
       "9   7905  SE Holgate Blvd     Portland             OR                 NaN  \n",
       "12        216 ne Knott st     Portland             OR                 NaN  "
      ]
     },
     "execution_count": 31,
     "metadata": {},
     "output_type": "execute_result"
    }
   ],
   "source": [
    "lbrs[lbrs.library_postal_code.isna()]"
   ]
  },
  {
   "cell_type": "code",
   "execution_count": 32,
   "id": "2706c3c8",
   "metadata": {},
   "outputs": [],
   "source": [
    "# These values can be filled by simple internet search\n",
    "\n",
    "lbrs.loc[1, 'library_postal_code'] = '97210'\n",
    "lbrs.loc[9, 'library_postal_code'] = '97206'\n",
    "lbrs.loc[12, 'library_postal_code'] = '97212'"
   ]
  },
  {
   "cell_type": "code",
   "execution_count": 33,
   "id": "6df30cbc",
   "metadata": {},
   "outputs": [],
   "source": [
    "def clean_digit_string_column(df, column_name, new_column_name=None, add_error_column=True):\n",
    "\n",
    "    if new_column_name is None:\n",
    "        new_column_name = f\"{column_name}_clean\"\n",
    "\n",
    "    def clean_value(val):\n",
    "        if pd.isna(val):\n",
    "            return None\n",
    "        digits_only = re.sub(r'\\D', '', str(val))\n",
    "        return digits_only if digits_only else None\n",
    "\n",
    "    df[new_column_name] = df[column_name].apply(clean_value)\n",
    "\n",
    "    if add_error_column:\n",
    "        error_col = f\"{column_name}_error\"\n",
    "        df[error_col] = df[new_column_name].isnull()\n",
    "\n",
    "    return df"
   ]
  },
  {
   "cell_type": "code",
   "execution_count": 34,
   "id": "6bd2800f",
   "metadata": {},
   "outputs": [
    {
     "data": {
      "text/plain": [
       "library_postal_code_error\n",
       "False    18\n",
       "Name: count, dtype: int64"
      ]
     },
     "execution_count": 34,
     "metadata": {},
     "output_type": "execute_result"
    }
   ],
   "source": [
    "lbrs = clean_digit_string_column(lbrs, 'library_postal_code', 'library_postal_code_clean', True)\n",
    "lbrs.library_postal_code_error.value_counts()"
   ]
  },
  {
   "cell_type": "code",
   "execution_count": 35,
   "id": "ba541fb1",
   "metadata": {},
   "outputs": [
    {
     "data": {
      "text/plain": [
       "0"
      ]
     },
     "execution_count": 35,
     "metadata": {},
     "output_type": "execute_result"
    }
   ],
   "source": [
    "lbrs = lbrs.drop(columns=['library_postal_code', 'library_postal_code_error'])\n",
    "lbrs = lbrs.rename(columns={'library_postal_code_clean':'library_postal_code'})\n",
    "lbrs['library_postal_code'].isna().sum()"
   ]
  },
  {
   "cell_type": "code",
   "execution_count": 36,
   "id": "b63acc39",
   "metadata": {},
   "outputs": [],
   "source": [
    "lbrs.to_csv(f'{DATA_DIR}/libraries_processed.csv', index=False)"
   ]
  },
  {
   "cell_type": "code",
   "execution_count": 37,
   "id": "cdab303c",
   "metadata": {},
   "outputs": [
    {
     "name": "stdout",
     "output_type": "stream",
     "text": [
      "<class 'pandas.core.frame.DataFrame'>\n",
      "RangeIndex: 2000 entries, 0 to 1999\n",
      "Data columns (total 10 columns):\n",
      " #   Column                   Non-Null Count  Dtype \n",
      "---  ------                   --------------  ----- \n",
      " 0   id                       2000 non-null   object\n",
      " 1   customer_name            2000 non-null   object\n",
      " 2   customer_street_address  2000 non-null   object\n",
      " 3   customer_city            1906 non-null   object\n",
      " 4   customer_state           1898 non-null   object\n",
      " 5   customer_zipcode         1999 non-null   object\n",
      " 6   customer_birth_date      1893 non-null   object\n",
      " 7   customer_gender          1899 non-null   object\n",
      " 8   customer_education       1896 non-null   object\n",
      " 9   customer_occupation      1893 non-null   object\n",
      "dtypes: object(10)\n",
      "memory usage: 156.4+ KB\n"
     ]
    }
   ],
   "source": [
    "cmrs.info()"
   ]
  },
  {
   "cell_type": "code",
   "execution_count": 38,
   "id": "b7505876",
   "metadata": {},
   "outputs": [
    {
     "data": {
      "text/plain": [
       "array(['Portland ', ' Portland', 'Portland', nan, 'Happy Valley',\n",
       "       'Lake Oswego', 'Vancouver', 'Beaverton', 'PORTLAND', 'Gresham',\n",
       "       'West Linn', 'Vancouver ', 'Tualatin', 'Oregon City', 'Damascus',\n",
       "       'portland', 'Clackamas', ' Vancouver', 'Hillsboro', 'Lake  Oswego',\n",
       "       'Lake OSWEGO', 'Happy  Valley', 'Lake   Oswego', 'VANCOUVER',\n",
       "       'vancouver', 'Gladstone', 'BEAVERTON', 'HAPPY Valley', 'CLACKAMAS',\n",
       "       'LAKE OSWEGO', 'Happy  Valley ', ' Beaverton', 'Happy Valley '],\n",
       "      dtype=object)"
      ]
     },
     "execution_count": 38,
     "metadata": {},
     "output_type": "execute_result"
    }
   ],
   "source": [
    "cmrs.customer_city.unique()"
   ]
  },
  {
   "cell_type": "code",
   "execution_count": 39,
   "id": "e5817017",
   "metadata": {},
   "outputs": [
    {
     "data": {
      "text/plain": [
       "94"
      ]
     },
     "execution_count": 39,
     "metadata": {},
     "output_type": "execute_result"
    }
   ],
   "source": [
    "cmrs.customer_city.isna().sum()"
   ]
  },
  {
   "cell_type": "code",
   "execution_count": 40,
   "id": "51a4b01f",
   "metadata": {},
   "outputs": [],
   "source": [
    "def clean_text_column(df, column_name, new_column_name=None, add_error_column=True):\n",
    "\n",
    "    if new_column_name is None:\n",
    "        new_column_name = f\"{column_name}_clean\"\n",
    "\n",
    "    def clean_value(val):\n",
    "        if pd.isna(val) or not str(val).strip() or not re.search(r'[a-zA-Z]', str(val)):\n",
    "            return 'Unknown'\n",
    "        return re.sub(r'\\s+', ' ', str(val)).strip().title()\n",
    "\n",
    "    df[new_column_name] = df[column_name].apply(clean_value)\n",
    "\n",
    "    if add_error_column:\n",
    "        error_col = f\"{column_name}_error\"\n",
    "        df[error_col] = df[new_column_name] == 'Unknown'\n",
    "\n",
    "    return df"
   ]
  },
  {
   "cell_type": "code",
   "execution_count": 41,
   "id": "fcc0c102",
   "metadata": {},
   "outputs": [
    {
     "data": {
      "text/plain": [
       "array(['Portland', 'Unknown', 'Happy Valley', 'Lake Oswego', 'Vancouver',\n",
       "       'Beaverton', 'Gresham', 'West Linn', 'Tualatin', 'Oregon City',\n",
       "       'Damascus', 'Clackamas', 'Hillsboro', 'Gladstone'], dtype=object)"
      ]
     },
     "execution_count": 41,
     "metadata": {},
     "output_type": "execute_result"
    }
   ],
   "source": [
    "cmrs = clean_text_column(cmrs, 'customer_city', 'customer_city_clean', True)\n",
    "cmrs['customer_city_clean'].unique()"
   ]
  },
  {
   "cell_type": "code",
   "execution_count": 42,
   "id": "3c716046",
   "metadata": {},
   "outputs": [
    {
     "data": {
      "text/plain": [
       "0"
      ]
     },
     "execution_count": 42,
     "metadata": {},
     "output_type": "execute_result"
    }
   ],
   "source": [
    "cmrs = cmrs.drop(columns=['customer_city', 'customer_city_error'])\n",
    "cmrs = cmrs.rename(columns={'customer_city_clean':'customer_city'})\n",
    "cmrs['customer_city'].isna().sum()"
   ]
  },
  {
   "cell_type": "code",
   "execution_count": 43,
   "id": "e3071241",
   "metadata": {},
   "outputs": [
    {
     "data": {
      "text/plain": [
       "array(['Oregon', 'OREGON', 'Washington', nan, 'Oregon ', ' Oregon',\n",
       "       ' Washington', 'oregon', 'Washington ', 'washington'], dtype=object)"
      ]
     },
     "execution_count": 43,
     "metadata": {},
     "output_type": "execute_result"
    }
   ],
   "source": [
    "cmrs.customer_state.unique()"
   ]
  },
  {
   "cell_type": "code",
   "execution_count": 44,
   "id": "9bcc49c3",
   "metadata": {},
   "outputs": [
    {
     "data": {
      "text/plain": [
       "array(['Oregon', 'Washington', 'Unknown'], dtype=object)"
      ]
     },
     "execution_count": 44,
     "metadata": {},
     "output_type": "execute_result"
    }
   ],
   "source": [
    "cmrs = clean_text_column(cmrs, 'customer_state', 'customer_state_clean', True)\n",
    "cmrs['customer_state_clean'].unique()"
   ]
  },
  {
   "cell_type": "code",
   "execution_count": 45,
   "id": "5100d54b",
   "metadata": {},
   "outputs": [
    {
     "data": {
      "text/plain": [
       "0"
      ]
     },
     "execution_count": 45,
     "metadata": {},
     "output_type": "execute_result"
    }
   ],
   "source": [
    "cmrs = cmrs.drop(columns=['customer_state', 'customer_state_error'])\n",
    "cmrs = cmrs.rename(columns={'customer_state_clean':'customer_state'})\n",
    "cmrs['customer_state'].isna().sum()"
   ]
  },
  {
   "cell_type": "code",
   "execution_count": 46,
   "id": "41bee8a2",
   "metadata": {},
   "outputs": [
    {
     "data": {
      "text/plain": [
       "array(['97211.0', '97219.0', '97035.0 ', '97203.0', '97216.0', '97045.0',\n",
       "       '#97034.0', '97202.0', '97267.0', '_97211.0', '97202.0-',\n",
       "       '97201.0', '97212.0', '97266.0', '97080.0', '97225.0', '97214.0_',\n",
       "       ' 97202.0', '97080.0#', '97227.0#', '#97211.0', '97008.0',\n",
       "       ' 97239.0', '97220.0 ', '97035.0', '97221.0', ' 97206.0',\n",
       "       '97005.0', '97239.0', '97236.0'], dtype=object)"
      ]
     },
     "execution_count": 46,
     "metadata": {},
     "output_type": "execute_result"
    }
   ],
   "source": [
    "cmrs.customer_zipcode.unique()[20:50]"
   ]
  },
  {
   "cell_type": "code",
   "execution_count": 47,
   "id": "aae1f624",
   "metadata": {},
   "outputs": [
    {
     "data": {
      "text/plain": [
       "customer_zipcode_error\n",
       "False    1999\n",
       "True        1\n",
       "Name: count, dtype: int64"
      ]
     },
     "execution_count": 47,
     "metadata": {},
     "output_type": "execute_result"
    }
   ],
   "source": [
    "cmrs = clean_digit_string_column(cmrs, 'customer_zipcode', 'customer_zipcode_clean', True)\n",
    "cmrs.customer_zipcode_error.value_counts()"
   ]
  },
  {
   "cell_type": "code",
   "execution_count": 48,
   "id": "e78dd771",
   "metadata": {},
   "outputs": [
    {
     "data": {
      "text/html": [
       "<div>\n",
       "<style scoped>\n",
       "    .dataframe tbody tr th:only-of-type {\n",
       "        vertical-align: middle;\n",
       "    }\n",
       "\n",
       "    .dataframe tbody tr th {\n",
       "        vertical-align: top;\n",
       "    }\n",
       "\n",
       "    .dataframe thead th {\n",
       "        text-align: right;\n",
       "    }\n",
       "</style>\n",
       "<table border=\"1\" class=\"dataframe\">\n",
       "  <thead>\n",
       "    <tr style=\"text-align: right;\">\n",
       "      <th></th>\n",
       "      <th>id</th>\n",
       "      <th>customer_name</th>\n",
       "      <th>customer_street_address</th>\n",
       "      <th>customer_zipcode</th>\n",
       "      <th>customer_birth_date</th>\n",
       "      <th>customer_gender</th>\n",
       "      <th>customer_education</th>\n",
       "      <th>customer_occupation</th>\n",
       "      <th>customer_city</th>\n",
       "      <th>customer_state</th>\n",
       "      <th>customer_zipcode_clean</th>\n",
       "      <th>customer_zipcode_error</th>\n",
       "    </tr>\n",
       "  </thead>\n",
       "  <tbody>\n",
       "    <tr>\n",
       "      <th>1728</th>\n",
       "      <td>21d1bb3a22811b8d490076e81288dfdb</td>\n",
       "      <td>Kendrick Luciano</td>\n",
       "      <td>822 SE Main St</td>\n",
       "      <td>NaN</td>\n",
       "      <td>2109-06-22</td>\n",
       "      <td>male</td>\n",
       "      <td>Others</td>\n",
       "      <td>Admin &amp; Support</td>\n",
       "      <td>Portland</td>\n",
       "      <td>Oregon</td>\n",
       "      <td>None</td>\n",
       "      <td>True</td>\n",
       "    </tr>\n",
       "  </tbody>\n",
       "</table>\n",
       "</div>"
      ],
      "text/plain": [
       "                                    id     customer_name  \\\n",
       "1728  21d1bb3a22811b8d490076e81288dfdb  Kendrick Luciano   \n",
       "\n",
       "     customer_street_address customer_zipcode customer_birth_date  \\\n",
       "1728          822 SE Main St              NaN          2109-06-22   \n",
       "\n",
       "     customer_gender customer_education customer_occupation customer_city  \\\n",
       "1728            male             Others     Admin & Support      Portland   \n",
       "\n",
       "     customer_state customer_zipcode_clean  customer_zipcode_error  \n",
       "1728         Oregon                   None                    True  "
      ]
     },
     "execution_count": 48,
     "metadata": {},
     "output_type": "execute_result"
    }
   ],
   "source": [
    "cmrs[cmrs.customer_zipcode_clean.isna()]"
   ]
  },
  {
   "cell_type": "code",
   "execution_count": 49,
   "id": "6bd026ca",
   "metadata": {},
   "outputs": [
    {
     "data": {
      "text/html": [
       "<div>\n",
       "<style scoped>\n",
       "    .dataframe tbody tr th:only-of-type {\n",
       "        vertical-align: middle;\n",
       "    }\n",
       "\n",
       "    .dataframe tbody tr th {\n",
       "        vertical-align: top;\n",
       "    }\n",
       "\n",
       "    .dataframe thead th {\n",
       "        text-align: right;\n",
       "    }\n",
       "</style>\n",
       "<table border=\"1\" class=\"dataframe\">\n",
       "  <thead>\n",
       "    <tr style=\"text-align: right;\">\n",
       "      <th></th>\n",
       "      <th>id</th>\n",
       "      <th>customer_name</th>\n",
       "      <th>customer_street_address</th>\n",
       "      <th>customer_zipcode</th>\n",
       "      <th>customer_birth_date</th>\n",
       "      <th>customer_gender</th>\n",
       "      <th>customer_education</th>\n",
       "      <th>customer_occupation</th>\n",
       "      <th>customer_city</th>\n",
       "      <th>customer_state</th>\n",
       "      <th>customer_zipcode_clean</th>\n",
       "      <th>customer_zipcode_error</th>\n",
       "    </tr>\n",
       "  </thead>\n",
       "  <tbody>\n",
       "  </tbody>\n",
       "</table>\n",
       "</div>"
      ],
      "text/plain": [
       "Empty DataFrame\n",
       "Columns: [id, customer_name, customer_street_address, customer_zipcode, customer_birth_date, customer_gender, customer_education, customer_occupation, customer_city, customer_state, customer_zipcode_clean, customer_zipcode_error]\n",
       "Index: []"
      ]
     },
     "execution_count": 49,
     "metadata": {},
     "output_type": "execute_result"
    }
   ],
   "source": [
    "# This value can also be filled by street adress and internet search\n",
    "\n",
    "cmrs.loc[1728, 'customer_zipcode_clean'] = '97214'\n",
    "cmrs[cmrs.customer_zipcode_clean.isna()]"
   ]
  },
  {
   "cell_type": "code",
   "execution_count": 50,
   "id": "6cc7a0e5",
   "metadata": {},
   "outputs": [
    {
     "data": {
      "text/plain": [
       "0"
      ]
     },
     "execution_count": 50,
     "metadata": {},
     "output_type": "execute_result"
    }
   ],
   "source": [
    "cmrs = cmrs.drop(columns=['customer_zipcode', 'customer_zipcode_error'])\n",
    "cmrs = cmrs.rename(columns={'customer_zipcode_clean':'customer_zipcode'})\n",
    "cmrs['customer_zipcode'].isna().sum()"
   ]
  },
  {
   "cell_type": "code",
   "execution_count": 51,
   "id": "c9f8fbab",
   "metadata": {},
   "outputs": [
    {
     "data": {
      "text/plain": [
       "array([nan, 'Blue Collar', 'Education & Health', 'SALES', 'Tech', 'Sales',\n",
       "       'Others', 'Business & Finance', ' Business &  Finance ',\n",
       "       'Education  & Health'], dtype=object)"
      ]
     },
     "execution_count": 51,
     "metadata": {},
     "output_type": "execute_result"
    }
   ],
   "source": [
    "cmrs.customer_occupation.unique()[:10]"
   ]
  },
  {
   "cell_type": "code",
   "execution_count": 52,
   "id": "13c97c30",
   "metadata": {},
   "outputs": [
    {
     "data": {
      "text/plain": [
       "array(['Unknown', 'Blue Collar', 'Education & Health', 'Sales', 'Tech',\n",
       "       'Others', 'Business & Finance', 'Admin & Support'], dtype=object)"
      ]
     },
     "execution_count": 52,
     "metadata": {},
     "output_type": "execute_result"
    }
   ],
   "source": [
    "cmrs = clean_text_column(cmrs, 'customer_occupation', 'customer_occupation_clean', True)\n",
    "cmrs['customer_occupation_clean'].unique()"
   ]
  },
  {
   "cell_type": "code",
   "execution_count": 53,
   "id": "c4628a6b",
   "metadata": {},
   "outputs": [
    {
     "data": {
      "text/plain": [
       "0"
      ]
     },
     "execution_count": 53,
     "metadata": {},
     "output_type": "execute_result"
    }
   ],
   "source": [
    "cmrs = cmrs.drop(columns=['customer_occupation', 'customer_occupation_error'])\n",
    "cmrs = cmrs.rename(columns={'customer_occupation_clean':'customer_occupation'})\n",
    "cmrs['customer_occupation'].isna().sum()"
   ]
  },
  {
   "cell_type": "code",
   "execution_count": 54,
   "id": "ca02fae7",
   "metadata": {},
   "outputs": [
    {
     "data": {
      "text/plain": [
       "array(['High School', 'College', 'Graduate Degree', 'Others', 'Unknown'],\n",
       "      dtype=object)"
      ]
     },
     "execution_count": 54,
     "metadata": {},
     "output_type": "execute_result"
    }
   ],
   "source": [
    "cmrs = clean_text_column(cmrs, 'customer_education', 'customer_education_clean', True)\n",
    "cmrs['customer_education_clean'].unique()"
   ]
  },
  {
   "cell_type": "code",
   "execution_count": 55,
   "id": "2ef5e5b2",
   "metadata": {},
   "outputs": [
    {
     "data": {
      "text/plain": [
       "0"
      ]
     },
     "execution_count": 55,
     "metadata": {},
     "output_type": "execute_result"
    }
   ],
   "source": [
    "cmrs = cmrs.drop(columns=['customer_education', 'customer_education_error'])\n",
    "cmrs = cmrs.rename(columns={'customer_education_clean':'customer_education'})\n",
    "cmrs['customer_education'].isna().sum()"
   ]
  },
  {
   "cell_type": "code",
   "execution_count": 56,
   "id": "ab31a91d",
   "metadata": {},
   "outputs": [
    {
     "data": {
      "text/plain": [
       "array(['Female', 'Male', 'Unknown'], dtype=object)"
      ]
     },
     "execution_count": 56,
     "metadata": {},
     "output_type": "execute_result"
    }
   ],
   "source": [
    "cmrs = clean_text_column(cmrs, 'customer_gender', 'customer_gender_clean', True)\n",
    "cmrs['customer_gender_clean'].unique()"
   ]
  },
  {
   "cell_type": "code",
   "execution_count": 57,
   "id": "9b8b0131",
   "metadata": {},
   "outputs": [
    {
     "data": {
      "text/plain": [
       "0"
      ]
     },
     "execution_count": 57,
     "metadata": {},
     "output_type": "execute_result"
    }
   ],
   "source": [
    "cmrs = cmrs.drop(columns=['customer_gender', 'customer_gender_error'])\n",
    "cmrs = cmrs.rename(columns={'customer_gender_clean':'customer_gender'})\n",
    "cmrs['customer_gender'].isna().sum()"
   ]
  },
  {
   "cell_type": "code",
   "execution_count": 58,
   "id": "d72ff08f",
   "metadata": {},
   "outputs": [
    {
     "data": {
      "text/plain": [
       "customer_birth_date\n",
       "YYYY-MM-DD    107\n",
       "1956-12-15      3\n",
       "1972-06-02      3\n",
       "1956-06-23      3\n",
       "1975-08-27      2\n",
       "             ... \n",
       "2116-08-05      1\n",
       "1974-03-21      1\n",
       "1983-05-19      1\n",
       "1996-03-16      1\n",
       "2001-02-19      1\n",
       "Name: count, Length: 1831, dtype: int64"
      ]
     },
     "execution_count": 58,
     "metadata": {},
     "output_type": "execute_result"
    }
   ],
   "source": [
    "cmrs.customer_birth_date = cmrs.customer_birth_date.fillna('YYYY-MM-DD')\n",
    "cmrs.customer_birth_date.value_counts()"
   ]
  },
  {
   "cell_type": "code",
   "execution_count": 59,
   "id": "8ed3a1f0",
   "metadata": {},
   "outputs": [],
   "source": [
    "def clean_customer_birth_date(date_val):\n",
    "    if pd.isna(date_val):\n",
    "        return None\n",
    "\n",
    "    date_str = str(date_val).strip()\n",
    "\n",
    "    date_str = re.sub(r'^[^\\w]+|[^\\w]+$', '', date_str)\n",
    "\n",
    "    try:\n",
    "        parsed_date = pd.to_datetime(date_str, errors='coerce', dayfirst=True)\n",
    "        if pd.notnull(parsed_date):\n",
    "            return parsed_date.strftime('%Y-%m-%d')\n",
    "    except Exception:\n",
    "        pass\n",
    "\n",
    "    if re.fullmatch(r'\\d{8}', date_str):\n",
    "        try:\n",
    "            parsed = pd.to_datetime(f\"{date_str[:4]}-{date_str[4:6]}-{date_str[6:]}\")\n",
    "            return parsed.strftime('%Y-%m-%d')\n",
    "        except Exception:\n",
    "            pass\n",
    "\n",
    "    date_str = re.sub(r'[^\\w]', '-', date_str)\n",
    "    try:\n",
    "        parsed_date = pd.to_datetime(date_str, errors='coerce', dayfirst=True)\n",
    "        if pd.notnull(parsed_date):\n",
    "            return parsed_date.strftime('%Y-%m-%d')\n",
    "    except Exception:\n",
    "        pass\n",
    "\n",
    "    return None"
   ]
  },
  {
   "cell_type": "code",
   "execution_count": 60,
   "id": "8120c0aa",
   "metadata": {},
   "outputs": [
    {
     "name": "stderr",
     "output_type": "stream",
     "text": [
      "/var/folders/mn/wh8_vw8s4vx2lwxn82d99cnm0000gp/T/ipykernel_8572/4288776521.py:10: UserWarning: Parsing dates in %Y-%m-%d format when dayfirst=True was specified. Pass `dayfirst=False` or specify a format to silence this warning.\n",
      "  parsed_date = pd.to_datetime(date_str, errors='coerce', dayfirst=True)\n"
     ]
    },
    {
     "data": {
      "text/plain": [
       "('1956-07-19', '1956-07-19')"
      ]
     },
     "execution_count": 60,
     "metadata": {},
     "output_type": "execute_result"
    }
   ],
   "source": [
    "clean_customer_birth_date('1956-07-19'), clean_customer_birth_date('1956-07-19 ')"
   ]
  },
  {
   "cell_type": "code",
   "execution_count": 61,
   "id": "e25fa656",
   "metadata": {},
   "outputs": [
    {
     "name": "stderr",
     "output_type": "stream",
     "text": [
      "/var/folders/mn/wh8_vw8s4vx2lwxn82d99cnm0000gp/T/ipykernel_8572/4288776521.py:10: UserWarning: Parsing dates in %Y-%m-%d format when dayfirst=True was specified. Pass `dayfirst=False` or specify a format to silence this warning.\n",
      "  parsed_date = pd.to_datetime(date_str, errors='coerce', dayfirst=True)\n"
     ]
    },
    {
     "data": {
      "text/plain": [
       "('1956-07-19', Timestamp('1956-07-19 00:00:00'))"
      ]
     },
     "execution_count": 61,
     "metadata": {},
     "output_type": "execute_result"
    }
   ],
   "source": [
    "cmrs['customer_birth_date_cleaned_str'] = cmrs['customer_birth_date'].apply(clean_customer_birth_date)\n",
    "\n",
    "cmrs['customer_birth_date_parsed'] = pd.to_datetime(\n",
    "    cmrs['customer_birth_date_cleaned_str'],\n",
    "    errors='coerce'\n",
    ")\n",
    "\n",
    "cmrs['customer_birth_date_clean'] = cmrs['customer_birth_date_parsed'].dt.strftime('%Y-%m-%d')\n",
    "cmrs['customer_birth_date_cleaned_str'][1991], cmrs['customer_birth_date_parsed'][1991]"
   ]
  },
  {
   "cell_type": "code",
   "execution_count": 62,
   "id": "b5e523b6",
   "metadata": {},
   "outputs": [],
   "source": [
    "# Using standard categorization of age\n",
    "\n",
    "age_categories = {\n",
    "    \"Children\": (6, 12),\n",
    "    \"Adolescents/Teenagers\": (13, 17),\n",
    "    \"Young Adults\": (18, 24),\n",
    "    \"Young Professionals\": (25, 34),\n",
    "    \"Adults\": (35, 44),\n",
    "    \"Middle-aged Adults\": (45, 54),\n",
    "    \"Older Adults\": (55, 64),\n",
    "    \"Seniors\": (65, float('inf'))\n",
    "}"
   ]
  },
  {
   "cell_type": "code",
   "execution_count": 63,
   "id": "4dd43f96",
   "metadata": {},
   "outputs": [
    {
     "data": {
      "text/plain": [
       "customer_age_category\n",
       "Seniors                  370\n",
       "Older Adults             300\n",
       "Middle-aged Adults       297\n",
       "Young Professionals      279\n",
       "Adults                   277\n",
       "Unknown                  201\n",
       "Young Adults             193\n",
       "Adolescents/Teenagers     83\n",
       "Name: count, dtype: int64"
      ]
     },
     "execution_count": 63,
     "metadata": {},
     "output_type": "execute_result"
    }
   ],
   "source": [
    "today = pd.to_datetime(datetime.today().date())\n",
    "cmrs['customer_age'] = cmrs['customer_birth_date_parsed'].apply(\n",
    "    lambda dob: int((today - dob).days / 365.25) if pd.notnull(dob) else None\n",
    ")\n",
    "def categorize_age(age):\n",
    "    if age is None:\n",
    "        return 'Unknown'\n",
    "    for category, (min_age, max_age) in age_categories.items():\n",
    "        if min_age <= age <= max_age:\n",
    "            return category\n",
    "    return 'Unknown'\n",
    "\n",
    "cmrs['customer_age_category'] = cmrs['customer_age'].apply(categorize_age)\n",
    "cmrs['customer_age_category'].value_counts()"
   ]
  },
  {
   "cell_type": "code",
   "execution_count": 64,
   "id": "adeeba53",
   "metadata": {},
   "outputs": [
    {
     "data": {
      "text/plain": [
       "Index(['id', 'customer_name', 'customer_street_address', 'customer_city',\n",
       "       'customer_state', 'customer_zipcode', 'customer_occupation',\n",
       "       'customer_education', 'customer_gender', 'customer_birth_date_clean',\n",
       "       'customer_age', 'customer_age_category'],\n",
       "      dtype='object')"
      ]
     },
     "execution_count": 64,
     "metadata": {},
     "output_type": "execute_result"
    }
   ],
   "source": [
    "cmrs = cmrs.drop(columns=['customer_birth_date',\n",
    "       'customer_birth_date_cleaned_str', 'customer_birth_date_parsed'])\n",
    "cmrs.columns"
   ]
  },
  {
   "cell_type": "code",
   "execution_count": 65,
   "id": "a3cb024e",
   "metadata": {},
   "outputs": [
    {
     "name": "stdout",
     "output_type": "stream",
     "text": [
      "<class 'pandas.core.frame.DataFrame'>\n",
      "RangeIndex: 2000 entries, 0 to 1999\n",
      "Data columns (total 12 columns):\n",
      " #   Column                   Non-Null Count  Dtype  \n",
      "---  ------                   --------------  -----  \n",
      " 0   id                       2000 non-null   object \n",
      " 1   customer_name            2000 non-null   object \n",
      " 2   customer_street_address  2000 non-null   object \n",
      " 3   customer_city            2000 non-null   object \n",
      " 4   customer_state           2000 non-null   object \n",
      " 5   customer_zipcode         2000 non-null   object \n",
      " 6   customer_occupation      2000 non-null   object \n",
      " 7   customer_education       2000 non-null   object \n",
      " 8   customer_gender          2000 non-null   object \n",
      " 9   customer_birth_date      2000 non-null   object \n",
      " 10  customer_age             2000 non-null   float64\n",
      " 11  customer_age_category    2000 non-null   object \n",
      "dtypes: float64(1), object(11)\n",
      "memory usage: 187.6+ KB\n"
     ]
    }
   ],
   "source": [
    "cmrs = cmrs.rename(columns={'customer_birth_date_clean': 'customer_birth_date'})\n",
    "cmrs.customer_birth_date = cmrs.customer_birth_date.fillna('YYYY-MM-DD')\n",
    "cmrs.customer_age = cmrs.customer_age.fillna(-1)\n",
    "cmrs.info()"
   ]
  },
  {
   "cell_type": "code",
   "execution_count": 66,
   "id": "435d2425",
   "metadata": {},
   "outputs": [],
   "source": [
    "cmrs.to_csv(f'{DATA_DIR}/customers_processed.csv', index=False)"
   ]
  },
  {
   "cell_type": "code",
   "execution_count": null,
   "id": "ed7982b3",
   "metadata": {},
   "outputs": [],
   "source": []
  }
 ],
 "metadata": {
  "kernelspec": {
   "display_name": "base",
   "language": "python",
   "name": "python3"
  },
  "language_info": {
   "codemirror_mode": {
    "name": "ipython",
    "version": 3
   },
   "file_extension": ".py",
   "mimetype": "text/x-python",
   "name": "python",
   "nbconvert_exporter": "python",
   "pygments_lexer": "ipython3",
   "version": "3.9.17"
  }
 },
 "nbformat": 4,
 "nbformat_minor": 5
}
