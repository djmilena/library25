{
 "cells": [
  {
   "cell_type": "code",
   "execution_count": 1,
   "id": "942a8314",
   "metadata": {},
   "outputs": [],
   "source": [
    "import pandas as pd\n",
    "\n",
    "import warnings\n",
    "\n",
    "with warnings.catch_warnings():\n",
    "    warnings.simplefilter(\"ignore\")"
   ]
  },
  {
   "cell_type": "code",
   "execution_count": 2,
   "id": "b0d5cca2",
   "metadata": {},
   "outputs": [],
   "source": [
    "DATA_DIR = './library-data'"
   ]
  },
  {
   "cell_type": "code",
   "execution_count": 3,
   "id": "0dce0460",
   "metadata": {},
   "outputs": [],
   "source": [
    "bks = pd.read_csv(f'{DATA_DIR}/books_processed.csv')\n",
    "cmrs = pd.read_csv(f'{DATA_DIR}/customers_processed.csv')\n",
    "lbrs = pd.read_csv(f'{DATA_DIR}/libraries_processed.csv')\n",
    "ckts = pd.read_csv(f'{DATA_DIR}/checkouts_processed.csv')"
   ]
  },
  {
   "cell_type": "code",
   "execution_count": 4,
   "id": "e4962ee2",
   "metadata": {},
   "outputs": [
    {
     "name": "stdout",
     "output_type": "stream",
     "text": [
      "['checkout_id' 'customer_id' 'library_id' 'days_out_final' 'is_late'] 5\n",
      "['id' 'book_title' 'book_authors' 'book_publisher' 'book_categories'\n",
      " 'book_price' 'book_pages' 'book_age' 'book_age_category'] 9\n",
      "['id' 'library_name' 'library_street_address' 'library_city'\n",
      " 'library_region' 'library_postal_code'] 6\n",
      "['id' 'customer_name' 'customer_street_address' 'customer_city'\n",
      " 'customer_state' 'customer_zipcode' 'customer_occupation'\n",
      " 'customer_education' 'customer_gender' 'customer_birth_date'\n",
      " 'customer_age' 'customer_age_category'] 12\n"
     ]
    }
   ],
   "source": [
    "print(ckts.columns.values, ckts.shape[1])\n",
    "print(bks.columns.values, bks.shape[1])\n",
    "print(lbrs.columns.values, lbrs.shape[1])\n",
    "print(cmrs.columns.values, cmrs.shape[1])"
   ]
  },
  {
   "cell_type": "code",
   "execution_count": 5,
   "id": "22e31688",
   "metadata": {},
   "outputs": [
    {
     "data": {
      "text/plain": [
       "(1544, 13)"
      ]
     },
     "execution_count": 5,
     "metadata": {},
     "output_type": "execute_result"
    }
   ],
   "source": [
    "df = pd.merge(\n",
    "    ckts,\n",
    "    bks,\n",
    "    left_on='checkout_id',\n",
    "    right_on='id',\n",
    "    how='left'\n",
    ").drop(columns='id')\n",
    "\n",
    "df.shape\n"
   ]
  },
  {
   "cell_type": "code",
   "execution_count": 6,
   "id": "1dd02401",
   "metadata": {},
   "outputs": [
    {
     "data": {
      "text/plain": [
       "(1544, 18)"
      ]
     },
     "execution_count": 6,
     "metadata": {},
     "output_type": "execute_result"
    }
   ],
   "source": [
    "df = pd.merge(\n",
    "    df,\n",
    "    lbrs,\n",
    "    left_on='library_id',\n",
    "    right_on='id',\n",
    "    how='left'\n",
    ").drop(columns='id')\n",
    "\n",
    "df.shape"
   ]
  },
  {
   "cell_type": "code",
   "execution_count": 7,
   "id": "31267924",
   "metadata": {},
   "outputs": [
    {
     "data": {
      "text/html": [
       "<div>\n",
       "<style scoped>\n",
       "    .dataframe tbody tr th:only-of-type {\n",
       "        vertical-align: middle;\n",
       "    }\n",
       "\n",
       "    .dataframe tbody tr th {\n",
       "        vertical-align: top;\n",
       "    }\n",
       "\n",
       "    .dataframe thead th {\n",
       "        text-align: right;\n",
       "    }\n",
       "</style>\n",
       "<table border=\"1\" class=\"dataframe\">\n",
       "  <thead>\n",
       "    <tr style=\"text-align: right;\">\n",
       "      <th></th>\n",
       "      <th>checkout_id</th>\n",
       "      <th>customer_id</th>\n",
       "      <th>library_id</th>\n",
       "      <th>days_out_final</th>\n",
       "      <th>is_late</th>\n",
       "      <th>book_title</th>\n",
       "      <th>book_authors</th>\n",
       "      <th>book_publisher</th>\n",
       "      <th>book_categories</th>\n",
       "      <th>book_price</th>\n",
       "      <th>...</th>\n",
       "      <th>customer_street_address</th>\n",
       "      <th>customer_city</th>\n",
       "      <th>customer_state</th>\n",
       "      <th>customer_zipcode</th>\n",
       "      <th>customer_occupation</th>\n",
       "      <th>customer_education</th>\n",
       "      <th>customer_gender</th>\n",
       "      <th>customer_birth_date</th>\n",
       "      <th>customer_age</th>\n",
       "      <th>customer_age_category</th>\n",
       "    </tr>\n",
       "  </thead>\n",
       "  <tbody>\n",
       "    <tr>\n",
       "      <th>1541</th>\n",
       "      <td>F44fAQAAMAAJ</td>\n",
       "      <td>026262cc3454149303074c4113b5f118</td>\n",
       "      <td>226-222@5xc-jxj-7yv</td>\n",
       "      <td>10</td>\n",
       "      <td>0</td>\n",
       "      <td>michigan manufacturer &amp; financial record</td>\n",
       "      <td>['unknown']</td>\n",
       "      <td>Unknown</td>\n",
       "      <td>['industries']</td>\n",
       "      <td>371.00</td>\n",
       "      <td>...</td>\n",
       "      <td>4436 NE Jarrett St</td>\n",
       "      <td>Portland</td>\n",
       "      <td>Oregon</td>\n",
       "      <td>972180</td>\n",
       "      <td>Education &amp; Health</td>\n",
       "      <td>High School</td>\n",
       "      <td>Female</td>\n",
       "      <td>1812-03-13</td>\n",
       "      <td>213.0</td>\n",
       "      <td>Seniors</td>\n",
       "    </tr>\n",
       "    <tr>\n",
       "      <th>1542</th>\n",
       "      <td>Ci1HAQAAMAAJ</td>\n",
       "      <td>08b29865e58e9b2aabff9684a703acf0</td>\n",
       "      <td>223-222@5xc-jxr-tgk</td>\n",
       "      <td>19</td>\n",
       "      <td>0</td>\n",
       "      <td>modern electric railway practice: power statio...</td>\n",
       "      <td>['unknown']</td>\n",
       "      <td>Unknown</td>\n",
       "      <td>['electric railroads']</td>\n",
       "      <td>484.00</td>\n",
       "      <td>...</td>\n",
       "      <td>3232 SE 112th Ave</td>\n",
       "      <td>Portland</td>\n",
       "      <td>Oregon</td>\n",
       "      <td>972660</td>\n",
       "      <td>Unknown</td>\n",
       "      <td>Graduate Degree</td>\n",
       "      <td>Male</td>\n",
       "      <td>1980-08-23</td>\n",
       "      <td>44.0</td>\n",
       "      <td>Adults</td>\n",
       "    </tr>\n",
       "    <tr>\n",
       "      <th>1543</th>\n",
       "      <td>TUAyAQAAMAAJ</td>\n",
       "      <td>ac0bb7b22b4df999a0b1216ded727f8e</td>\n",
       "      <td>228-222@5xc-jtz-hwk</td>\n",
       "      <td>22</td>\n",
       "      <td>0</td>\n",
       "      <td>minnesota medicine</td>\n",
       "      <td>['unknown']</td>\n",
       "      <td>Unknown</td>\n",
       "      <td>['medicine']</td>\n",
       "      <td>267.99</td>\n",
       "      <td>...</td>\n",
       "      <td>424 NE Broadway St</td>\n",
       "      <td>Portland</td>\n",
       "      <td>Oregon</td>\n",
       "      <td>972320</td>\n",
       "      <td>Admin &amp; Support</td>\n",
       "      <td>Others</td>\n",
       "      <td>Male</td>\n",
       "      <td>1962-12-28</td>\n",
       "      <td>62.0</td>\n",
       "      <td>Older Adults</td>\n",
       "    </tr>\n",
       "  </tbody>\n",
       "</table>\n",
       "<p>3 rows × 29 columns</p>\n",
       "</div>"
      ],
      "text/plain": [
       "       checkout_id                       customer_id           library_id  \\\n",
       "1541  F44fAQAAMAAJ  026262cc3454149303074c4113b5f118  226-222@5xc-jxj-7yv   \n",
       "1542  Ci1HAQAAMAAJ  08b29865e58e9b2aabff9684a703acf0  223-222@5xc-jxr-tgk   \n",
       "1543  TUAyAQAAMAAJ  ac0bb7b22b4df999a0b1216ded727f8e  228-222@5xc-jtz-hwk   \n",
       "\n",
       "      days_out_final  is_late  \\\n",
       "1541              10        0   \n",
       "1542              19        0   \n",
       "1543              22        0   \n",
       "\n",
       "                                             book_title book_authors  \\\n",
       "1541           michigan manufacturer & financial record  ['unknown']   \n",
       "1542  modern electric railway practice: power statio...  ['unknown']   \n",
       "1543                                 minnesota medicine  ['unknown']   \n",
       "\n",
       "     book_publisher         book_categories  book_price  ...  \\\n",
       "1541        Unknown          ['industries']      371.00  ...   \n",
       "1542        Unknown  ['electric railroads']      484.00  ...   \n",
       "1543        Unknown            ['medicine']      267.99  ...   \n",
       "\n",
       "      customer_street_address  customer_city customer_state customer_zipcode  \\\n",
       "1541       4436 NE Jarrett St       Portland         Oregon           972180   \n",
       "1542        3232 SE 112th Ave       Portland         Oregon           972660   \n",
       "1543       424 NE Broadway St       Portland         Oregon           972320   \n",
       "\n",
       "     customer_occupation customer_education customer_gender  \\\n",
       "1541  Education & Health        High School          Female   \n",
       "1542             Unknown    Graduate Degree            Male   \n",
       "1543     Admin & Support             Others            Male   \n",
       "\n",
       "      customer_birth_date customer_age customer_age_category  \n",
       "1541           1812-03-13        213.0               Seniors  \n",
       "1542           1980-08-23         44.0                Adults  \n",
       "1543           1962-12-28         62.0          Older Adults  \n",
       "\n",
       "[3 rows x 29 columns]"
      ]
     },
     "execution_count": 7,
     "metadata": {},
     "output_type": "execute_result"
    }
   ],
   "source": [
    "df = pd.merge(\n",
    "    df,\n",
    "    cmrs,\n",
    "    left_on='customer_id',\n",
    "    right_on='id',\n",
    "    how='left'\n",
    ").drop(columns='id')\n",
    "\n",
    "df.tail(3)"
   ]
  },
  {
   "cell_type": "code",
   "execution_count": 8,
   "id": "83ab7820",
   "metadata": {},
   "outputs": [],
   "source": [
    "df.to_csv(f'{DATA_DIR}/merged_processed.csv', index=False)"
   ]
  },
  {
   "cell_type": "code",
   "execution_count": null,
   "id": "ed7982b3",
   "metadata": {},
   "outputs": [],
   "source": []
  }
 ],
 "metadata": {
  "kernelspec": {
   "display_name": "base",
   "language": "python",
   "name": "python3"
  },
  "language_info": {
   "codemirror_mode": {
    "name": "ipython",
    "version": 3
   },
   "file_extension": ".py",
   "mimetype": "text/x-python",
   "name": "python",
   "nbconvert_exporter": "python",
   "pygments_lexer": "ipython3",
   "version": "3.9.17"
  }
 },
 "nbformat": 4,
 "nbformat_minor": 5
}
